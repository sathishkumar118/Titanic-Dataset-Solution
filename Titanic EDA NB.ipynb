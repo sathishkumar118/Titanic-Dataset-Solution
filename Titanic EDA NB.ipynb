{
  "nbformat": 4,
  "nbformat_minor": 0,
  "metadata": {
    "kernelspec": {
      "language": "python",
      "display_name": "Python 3",
      "name": "python3"
    },
    "language_info": {
      "pygments_lexer": "ipython3",
      "nbconvert_exporter": "python",
      "version": "3.6.4",
      "file_extension": ".py",
      "codemirror_mode": {
        "name": "ipython",
        "version": 3
      },
      "name": "python",
      "mimetype": "text/x-python"
    },
    "colab": {
      "name": "Titanic EDA NB.ipynb",
      "provenance": [],
      "include_colab_link": true
    }
  },
  "cells": [
    {
      "cell_type": "markdown",
      "metadata": {
        "id": "view-in-github",
        "colab_type": "text"
      },
      "source": [
        "<a href=\"https://colab.research.google.com/github/sathishkumar118/Titanic-Dataset-Solution/blob/master/Titanic%20EDA%20NB.ipynb\" target=\"_parent\"><img src=\"https://colab.research.google.com/assets/colab-badge.svg\" alt=\"Open In Colab\"/></a>"
      ]
    },
    {
      "cell_type": "code",
      "metadata": {
        "_cell_guid": "",
        "_uuid": "",
        "trusted": true,
        "_kg_hide-output": false,
        "id": "3WEWwONhqjP8",
        "colab_type": "code",
        "colab": {}
      },
      "source": [
        "# import necessary libraries\n",
        "import pandas as pd\n",
        "import numpy as np\n",
        "# Loading the data in pandas dataframe\n",
        "#loading train, test and final result csv files\n",
        "gender_submission = pd.read_csv(\"../input/titanic/gender_submission.csv\")\n",
        "test = pd.read_csv(\"../input/titanic/test.csv\")\n",
        "train = pd.read_csv(\"../input/titanic/train.csv\")\n",
        "print(train.info())\n",
        "print(train.head())"
      ],
      "execution_count": 0,
      "outputs": []
    },
    {
      "cell_type": "code",
      "metadata": {
        "trusted": true,
        "id": "H4k15hMVqjQB",
        "colab_type": "code",
        "colab": {}
      },
      "source": [
        "#dropping unwanted columns\n",
        "X_train = train.drop(columns = ['PassengerId','Survived','Ticket','Name','Cabin'])\n",
        "X_test = test.drop(columns = ['PassengerId','Ticket','Name','Cabin'])\n",
        "y_train = train.Survived\n",
        "y_test = gender_submission.Survived\n",
        "X_train.info()"
      ],
      "execution_count": 0,
      "outputs": []
    },
    {
      "cell_type": "code",
      "metadata": {
        "trusted": true,
        "id": "P5Sc-U4fqjQD",
        "colab_type": "code",
        "colab": {}
      },
      "source": [
        "# filling the missing values\n",
        "print(X_train.info())\n",
        "X_train.Age=X_train.Age.fillna(X_train.Age.median())\n",
        "X_train.Fare=X_train.Fare.fillna(X_train.Age.median())\n",
        "X_train.Age = X_train.Age.astype(int)\n",
        "X_train.Fare = X_train.Fare.astype(int)\n",
        "X_test.Age=X_test.Age.fillna(X_test.Age.median())\n",
        "X_test.Fare=X_test.Fare.fillna(X_test.Age.median())\n",
        "X_test.Age = X_test.Age.astype(int)\n",
        "X_test.Fare = X_test.Fare.astype(int)\n",
        "print(X_train.info())"
      ],
      "execution_count": 0,
      "outputs": []
    },
    {
      "cell_type": "code",
      "metadata": {
        "trusted": true,
        "id": "fnChkGbbqjQH",
        "colab_type": "code",
        "colab": {}
      },
      "source": [
        "categorical_feature_mask = X_train.dtypes==object\n",
        "#filter categorical columns using mask and turn it into a list\n",
        "categorical_cols = X_train.columns[categorical_feature_mask].tolist()"
      ],
      "execution_count": 0,
      "outputs": []
    },
    {
      "cell_type": "code",
      "metadata": {
        "trusted": true,
        "id": "U9N2zumEqjQK",
        "colab_type": "code",
        "colab": {}
      },
      "source": [
        "train['LastName'] = train.Name.apply(lambda x:x.split(sep=',')[0])\n",
        "train.info()"
      ],
      "execution_count": 0,
      "outputs": []
    },
    {
      "cell_type": "code",
      "metadata": {
        "trusted": true,
        "id": "q63hDOaOqjQN",
        "colab_type": "code",
        "colab": {}
      },
      "source": [
        "# import labelencoder\n",
        "from sklearn.preprocessing import LabelEncoder\n",
        "# instantiate labelencoder object\n",
        "le = LabelEncoder()\n",
        "X_train.Sex = le.fit_transform(X_train.Sex)\n",
        "X_test.Sex = le.fit_transform(X_test.Sex)\n",
        "\"\"\"X_train.Cabin = X_train.Cabin.fillna(X_train['Cabin'].value_counts().idxmax())\n",
        "X_train.Cabin = le.fit_transform(X_train.Cabin)\n",
        "X_test.Cabin = X_test.Cabin.fillna(X_test['Cabin'].value_counts().idxmax())\n",
        "X_test.Cabin = le.fit_transform(X_test.Cabin)\"\"\"\n",
        "X_train.Embarked = X_train.Embarked.fillna(X_train['Embarked'].value_counts().idxmax())\n",
        "X_train.Embarked = le.fit_transform(X_train.Embarked)\n",
        "X_test.Embarked = X_test.Embarked.fillna(X_test['Embarked'].value_counts().idxmax())\n",
        "X_test.Embarked = le.fit_transform(X_test.Embarked)\n",
        "#X_train.Ticket = X_train.Ticket.apply(lambda x: 'Normal class' if str(x).isdigit() else x)\n",
        "#print(X_train.Ticket)\n",
        "#print(X_train.groupby('Ticket').count())"
      ],
      "execution_count": 0,
      "outputs": []
    },
    {
      "cell_type": "markdown",
      "metadata": {
        "trusted": true,
        "id": "DdH1w5eoqjQQ",
        "colab_type": "text"
      },
      "source": [
        "# Encoding the categorical values with one hot encoder\n"
      ]
    },
    {
      "cell_type": "code",
      "metadata": {
        "_kg_hide-output": true,
        "trusted": true,
        "id": "e07Sc83MqjQR",
        "colab_type": "code",
        "colab": {}
      },
      "source": [
        "from sklearn.preprocessing import OneHotEncoder\n",
        "from sklearn.compose import ColumnTransformer\n",
        "onehotencoder = OneHotEncoder(categorical_features = [0,3,6]) \n",
        "#columnTransformer = ColumnTransformer([('encoder', OneHotEncoder(), [1,6])], remainder='passthrough')\n",
        "#dataset = np.array(columnTransformer.fit_transform(X_train))\n",
        "X_ohe_train = onehotencoder.fit_transform(X_train).toarray() \n",
        "X_ohe_test = onehotencoder.fit_transform(X_test).toarray() "
      ],
      "execution_count": 0,
      "outputs": []
    },
    {
      "cell_type": "code",
      "metadata": {
        "trusted": true,
        "id": "lrcZIJR9qjQU",
        "colab_type": "code",
        "colab": {}
      },
      "source": [
        "#Feature scaling needs to be done for continous columns\n",
        "from sklearn.preprocessing import MinMaxScaler\n",
        "min_max=MinMaxScaler()\n",
        "# To scale data \n",
        "X_train_minmax=min_max.fit_transform(X_ohe_train)\n",
        "X_test_minmax=min_max.fit_transform(X_ohe_test)"
      ],
      "execution_count": 0,
      "outputs": []
    },
    {
      "cell_type": "code",
      "metadata": {
        "trusted": true,
        "id": "vZWk0qrFqjQW",
        "colab_type": "code",
        "colab": {}
      },
      "source": [
        "#percentage of people survived\n",
        "print(\"percentage of people survived :\",round(y_train.sum()/y_train.count(),2)*100)\n",
        "groupby_sex_total = train.groupby('Sex').sum().Survived\n",
        "groupby_sex_survived = train.groupby('Sex').count().Survived\n",
        "#percentage of people survived grouped by sex\n",
        "print(\"percentage of people survived grouped by sex : \\n\",str(round(groupby_sex_total/groupby_sex_survived*100,2)))"
      ],
      "execution_count": 0,
      "outputs": []
    },
    {
      "cell_type": "code",
      "metadata": {
        "trusted": true,
        "id": "s1oa2Ev8qjQa",
        "colab_type": "code",
        "colab": {}
      },
      "source": [
        "from sklearn.linear_model import LinearRegression\n",
        "from sklearn.preprocessing import MinMaxScaler\n",
        "lr = LinearRegression()\n",
        "#X_train = MinMaxScaler().fit_transform(X_train)\n",
        "lr.fit(X_ohe_train,y_train)\n",
        "y_pred = lr.predict(X_ohe_test)\n",
        "from sklearn import metrics\n",
        "# Model Accuracy, how often is the classifier correct?\n",
        "print(\"Accuracy:\",lr.score(X_ohe_test, y_test))"
      ],
      "execution_count": 0,
      "outputs": []
    },
    {
      "cell_type": "code",
      "metadata": {
        "trusted": true,
        "id": "ZPt38KkTqjQd",
        "colab_type": "code",
        "colab": {}
      },
      "source": [
        "#Import Random Forest Model\n",
        "from sklearn.ensemble import RandomForestClassifier\n",
        "\n",
        "#Create a Gaussian Classifier\n",
        "clf=RandomForestClassifier(n_estimators=100)\n",
        "\n",
        "#Train the model using the training sets y_pred=clf.predict(X_test)\n",
        "clf.fit(X_ohe_train,y_train)\n",
        "\n",
        "y_pred=clf.predict(X_ohe_test)\n",
        "\n",
        "#Import scikit-learn metrics module for accuracy calculation\n",
        "from sklearn import metrics\n",
        "# Model Accuracy, how often is the classifier correct?\n",
        "Accuracy = metrics.accuracy_score(y_test, y_pred)\n",
        "print(\"Accuracy:\",Accuracy)\n",
        "from sklearn.metrics import roc_auc_score\n",
        "roc_score = roc_auc_score(y_test, y_pred)\n",
        "print(\"ROC_AUC_SCORE : \",roc_score)"
      ],
      "execution_count": 0,
      "outputs": []
    },
    {
      "cell_type": "code",
      "metadata": {
        "trusted": true,
        "id": "M2d3LEPDqjQf",
        "colab_type": "code",
        "colab": {}
      },
      "source": [
        "final_results = pd.DataFrame(y_pred, columns = ['Survived'])\n",
        "final_results['PassengerId'] = gender_submission.PassengerId\n",
        "final_results=final_results.set_index('PassengerId')\n",
        "final_results.to_csv('FinalResults-'+str(round(Accuracy,2))+'.csv')"
      ],
      "execution_count": 0,
      "outputs": []
    }
  ]
}